{
 "cells": [
  {
   "cell_type": "markdown",
   "id": "53dfd9f6",
   "metadata": {},
   "source": [
    "## Amazon Web Scraping Using Python | Data Analysis Project"
   ]
  },
  {
   "cell_type": "code",
   "execution_count": null,
   "id": "4f5cad5a",
   "metadata": {},
   "outputs": [],
   "source": [
    "##Importing required libraries for Data mining\n",
    "from bs4 import BeautifulSoup\n",
    "import requests\n",
    "import smtplib\n",
    "import time\n",
    "import datetime"
   ]
  },
  {
   "cell_type": "code",
   "execution_count": null,
   "id": "7d40617e",
   "metadata": {},
   "outputs": [],
   "source": [
    "#connect to website and extract data\n",
    "URL = \"https://www.amazon.in/Apple-iPhone-128GB-Space-Black/dp/B0BDJ7P6NG/ref=sr_1_1_sspa?keywords=iphone+14&qid=1670145773&sprefix=ipho%2Caps%2C378&sr=8-1-spons&sp_csd=d2lkZ2V0TmFtZT1zcF9hdGY&psc=1\"\n",
    "headers = {\"User-Agent\": \"Mozilla/5.0 (Windows NT 10.0; Win64; x64) AppleWebKit/537.36 (KHTML, like Gecko) Chrome/91.0.4472.124 Safari/537.36 Edg/91.0.864.59\",\n",
    " \"X-Amzn-Trace-Id\": \"Root=1-638733cb-4d5b59c750b2640350721423\"}\n",
    "\n",
    "page = requests.get(URL, headers = headers)\n",
    "soup1 = BeautifulSoup(page.content, \"html.parser\")\n",
    "soup2 = BeautifulSoup(soup1.prettify(), \"html.parser\")\n",
    "title = soup2.find(id=\"productTitle\").get_text()\n",
    "price = soup2.find(class_=\"a-price-whole\").get_text()"
   ]
  },
  {
   "cell_type": "code",
   "execution_count": null,
   "id": "8c9fc382",
   "metadata": {},
   "outputs": [],
   "source": [
    "# Data Cleaning\n",
    "title = title.strip()\n",
    "price = price.strip()\n"
   ]
  },
  {
   "cell_type": "code",
   "execution_count": null,
   "id": "2d3f80b4",
   "metadata": {},
   "outputs": [],
   "source": [
    "print(title)\n",
    "print(price)\n"
   ]
  },
  {
   "cell_type": "code",
   "execution_count": null,
   "id": "64534fac",
   "metadata": {},
   "outputs": [],
   "source": [
    "# Create a Timestamp for your output to track when data was collected\n",
    "\n",
    "import datetime\n",
    "\n",
    "today = datetime.date.today()\n",
    "\n",
    "print(today)"
   ]
  },
  {
   "cell_type": "code",
   "execution_count": null,
   "id": "0e4bce17",
   "metadata": {},
   "outputs": [],
   "source": [
    "#creating CSV file to store the extracted data\n",
    "import csv\n",
    "header = [\"Title\",\"Price\",\"Date\"]\n",
    "data = [title,price,today]\n",
    "with open(\"amazon_webscraping_dataset.csv\",\"w\", newline=\"\", encoding = \"UTF8\")as f:\n",
    "    writer = csv.writer(f)\n",
    "    writer.writerow(header)\n",
    "    writer.writerow(data)\n"
   ]
  },
  {
   "cell_type": "code",
   "execution_count": null,
   "id": "c81e0a82",
   "metadata": {},
   "outputs": [],
   "source": [
    "import pandas as pd\n",
    "df = pd.read_csv(\"amazon_webscraping_dataset.csv\")\n",
    "\n",
    "print(df)\n"
   ]
  },
  {
   "cell_type": "code",
   "execution_count": null,
   "id": "fdd3bbf1",
   "metadata": {},
   "outputs": [],
   "source": [
    "#Now we are appending data to the csv\n",
    "\n",
    "with open('amazon_webscraping_dataset.csv', 'a+', newline='', encoding='UTF8') as f:\n",
    "    writer = csv.writer(f)\n",
    "    writer.writerow(data)\n"
   ]
  },
  {
   "cell_type": "code",
   "execution_count": null,
   "id": "c82f486a",
   "metadata": {},
   "outputs": [],
   "source": [
    "## created function to automate the task of data extraction\n",
    "\n",
    "\n",
    "def check_price():\n",
    "    URL = \"https://www.amazon.in/Apple-iPhone-128GB-Space-Black/dp/B0BDJ7P6NG/ref=sr_1_1_sspa?keywords=iphone+14&qid=1670145773&sprefix=ipho%2Caps%2C378&sr=8-1-spons&sp_csd=d2lkZ2V0TmFtZT1zcF9hdGY&psc=1\"\n",
    "    \n",
    "    headers = {\"User-Agent\": \"Mozilla/5.0 (Windows NT 10.0; Win64; x64) AppleWebKit/537.36 (KHTML, like Gecko) Chrome/91.0.4472.124 Safari/537.36 Edg/91.0.864.59\", \"X-Amzn-Trace-Id\": \"Root=1-638733cb-4d5b59c750b2640350721423\"}\n",
    "\n",
    "    page = requests.get(URL, headers=headers)\n",
    "\n",
    "    soup1 = BeautifulSoup(page.content, \"html.parser\")\n",
    "\n",
    "    soup2 = BeautifulSoup(soup1.prettify(), \"html.parser\")\n",
    "    \n",
    "    title = soup2.find(id=\"productTitle\").get_text()\n",
    "    \n",
    "    price = soup2.find(class_=\"a-price-whole\").get_text()\n",
    "\n",
    "    price = price.strip()[1:]\n",
    "    title = title.strip()\n",
    "\n",
    "    import datetime\n",
    "\n",
    "    today = datetime.date.today()\n",
    "    \n",
    "    import csv \n",
    "\n",
    "    header = ['Title', 'Price', 'Date']\n",
    "    data = [title, price, today]\n",
    "\n",
    "    with open('amazon_webscraping_dataset.csv', 'a+', newline='', encoding='UTF8') as f:\n",
    "        writer = csv.writer(f)\n",
    "        writer.writerow(data)\n",
    " "
   ]
  },
  {
   "cell_type": "code",
   "execution_count": null,
   "id": "88dba5f8",
   "metadata": {},
   "outputs": [],
   "source": [
    "# Runs check_price after a set time and inputs data into CSV file\n",
    "# created while loop and timer to extract data after every mentioned seconds\n",
    "while(True):\n",
    "    check_price()\n",
    "    time.sleep(5)\n"
   ]
  },
  {
   "cell_type": "code",
   "execution_count": null,
   "id": "2854157b",
   "metadata": {},
   "outputs": [],
   "source": []
  }
 ],
 "metadata": {
  "kernelspec": {
   "display_name": "Python 3.10.5 64-bit",
   "language": "python",
   "name": "python3"
  },
  "language_info": {
   "codemirror_mode": {
    "name": "ipython",
    "version": 3
   },
   "file_extension": ".py",
   "mimetype": "text/x-python",
   "name": "python",
   "nbconvert_exporter": "python",
   "pygments_lexer": "ipython3",
   "version": "3.10.5"
  },
  "vscode": {
   "interpreter": {
    "hash": "2c4a0e462d5eb47ccb02ab75c092febb222556232e160fc793b5c239a0fdd870"
   }
  }
 },
 "nbformat": 4,
 "nbformat_minor": 5
}
